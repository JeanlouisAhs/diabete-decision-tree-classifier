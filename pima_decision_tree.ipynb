{
 "cells": [
  {
   "cell_type": "code",
   "execution_count": 1,
   "id": "bb32723b",
   "metadata": {},
   "outputs": [],
   "source": [
    " #Commençons par charger les bibliothèque neccessaire\n",
    "import pandas as pd\n",
    "from sklearn.tree import DecisionTreeClassifier # Importation du Decision Tree Classifier\n",
    "from sklearn.model_selection import train_test_split # Importation train_test_split function\n",
    "from sklearn import metrics #Importation de  scikit-learn metrics module pour le calcul de la précion (accuracy)"
   ]
  },
  {
   "cell_type": "code",
   "execution_count": 2,
   "id": "32c2973e",
   "metadata": {},
   "outputs": [],
   "source": [
    "col_names = ['pregnant', 'glucose', 'bp', 'skin', 'insulin', 'bmi', 'pedigree', 'age', 'label']\n",
    "#Le dataset qu'on veut utiliser retrace certaines les données médicales de femmes indiennes\n",
    "#issue de Pima pour deterner si oui ou non elle ont le diabetes\n",
    "#Concernant l'attribut label\n",
    "# 0 : l'individu n'a pas le diabete\n",
    "# 1 : l'individu n'a pas le diabete\n",
    "# chargement du dataset\n",
    "pima = pd.read_csv(\"../diabetespr.csv\", header=None, names=col_names)"
   ]
  },
  {
   "cell_type": "code",
   "execution_count": 3,
   "id": "73e30ed5",
   "metadata": {},
   "outputs": [
    {
     "data": {
      "text/html": [
       "<div>\n",
       "<style scoped>\n",
       "    .dataframe tbody tr th:only-of-type {\n",
       "        vertical-align: middle;\n",
       "    }\n",
       "\n",
       "    .dataframe tbody tr th {\n",
       "        vertical-align: top;\n",
       "    }\n",
       "\n",
       "    .dataframe thead th {\n",
       "        text-align: right;\n",
       "    }\n",
       "</style>\n",
       "<table border=\"1\" class=\"dataframe\">\n",
       "  <thead>\n",
       "    <tr style=\"text-align: right;\">\n",
       "      <th></th>\n",
       "      <th>pregnant</th>\n",
       "      <th>glucose</th>\n",
       "      <th>bp</th>\n",
       "      <th>skin</th>\n",
       "      <th>insulin</th>\n",
       "      <th>bmi</th>\n",
       "      <th>pedigree</th>\n",
       "      <th>age</th>\n",
       "      <th>label</th>\n",
       "    </tr>\n",
       "  </thead>\n",
       "  <tbody>\n",
       "    <tr>\n",
       "      <th>0</th>\n",
       "      <td>6</td>\n",
       "      <td>148</td>\n",
       "      <td>72</td>\n",
       "      <td>35</td>\n",
       "      <td>0</td>\n",
       "      <td>33.6</td>\n",
       "      <td>0.627</td>\n",
       "      <td>50</td>\n",
       "      <td>1</td>\n",
       "    </tr>\n",
       "    <tr>\n",
       "      <th>1</th>\n",
       "      <td>1</td>\n",
       "      <td>85</td>\n",
       "      <td>66</td>\n",
       "      <td>29</td>\n",
       "      <td>0</td>\n",
       "      <td>26.6</td>\n",
       "      <td>0.351</td>\n",
       "      <td>31</td>\n",
       "      <td>0</td>\n",
       "    </tr>\n",
       "    <tr>\n",
       "      <th>2</th>\n",
       "      <td>8</td>\n",
       "      <td>183</td>\n",
       "      <td>64</td>\n",
       "      <td>0</td>\n",
       "      <td>0</td>\n",
       "      <td>23.3</td>\n",
       "      <td>0.672</td>\n",
       "      <td>32</td>\n",
       "      <td>1</td>\n",
       "    </tr>\n",
       "    <tr>\n",
       "      <th>3</th>\n",
       "      <td>1</td>\n",
       "      <td>89</td>\n",
       "      <td>66</td>\n",
       "      <td>23</td>\n",
       "      <td>94</td>\n",
       "      <td>28.1</td>\n",
       "      <td>0.167</td>\n",
       "      <td>21</td>\n",
       "      <td>0</td>\n",
       "    </tr>\n",
       "    <tr>\n",
       "      <th>4</th>\n",
       "      <td>0</td>\n",
       "      <td>137</td>\n",
       "      <td>40</td>\n",
       "      <td>35</td>\n",
       "      <td>168</td>\n",
       "      <td>43.1</td>\n",
       "      <td>2.288</td>\n",
       "      <td>33</td>\n",
       "      <td>1</td>\n",
       "    </tr>\n",
       "  </tbody>\n",
       "</table>\n",
       "</div>"
      ],
      "text/plain": [
       "   pregnant  glucose  bp  skin  insulin   bmi  pedigree  age  label\n",
       "0         6      148  72    35        0  33.6     0.627   50      1\n",
       "1         1       85  66    29        0  26.6     0.351   31      0\n",
       "2         8      183  64     0        0  23.3     0.672   32      1\n",
       "3         1       89  66    23       94  28.1     0.167   21      0\n",
       "4         0      137  40    35      168  43.1     2.288   33      1"
      ]
     },
     "execution_count": 3,
     "metadata": {},
     "output_type": "execute_result"
    }
   ],
   "source": [
    "pima.head()"
   ]
  },
  {
   "cell_type": "code",
   "execution_count": 30,
   "id": "b7f60723",
   "metadata": {},
   "outputs": [],
   "source": [
    "#Division des columns en deux types de variable\n",
    "#variable cible ou dépendante (target)\n",
    "#variables de caractéristiques ou indépendante(feature)\n",
    "feature_cols = ['pregnant', 'insulin', 'bmi', 'age','glucose','bp','pedigree']\n",
    "X = pima[feature_cols] # Features\n",
    "y = pima.label # Target variable"
   ]
  },
  {
   "cell_type": "code",
   "execution_count": 31,
   "id": "1523cdb0",
   "metadata": {},
   "outputs": [],
   "source": [
    "#Division l'ensemble de données en ensemble d'apprentissage et de test\n",
    "X_train, X_test, y_train, y_test = train_test_split(X, y, test_size=0.3, random_state=1) # 70% training and 30% test"
   ]
  },
  {
   "cell_type": "code",
   "execution_count": 39,
   "id": "052da02c",
   "metadata": {},
   "outputs": [],
   "source": [
    "# Création de l'objet  Decision Tree classifer \n",
    "clf = DecisionTreeClassifier(criterion=\"entropy\", max_depth=3)\n",
    "\n",
    "# Entainement du  Decision Tree Classifer\n",
    "clf = clf.fit(X_train,y_train)"
   ]
  },
  {
   "cell_type": "code",
   "execution_count": 40,
   "id": "4bd482cc",
   "metadata": {},
   "outputs": [],
   "source": [
    "#Prédiction de response pour les données de  test \n",
    "y_pred = clf.predict(X_test)"
   ]
  },
  {
   "cell_type": "code",
   "execution_count": 41,
   "id": "d3fb88f4",
   "metadata": {},
   "outputs": [
    {
     "name": "stdout",
     "output_type": "stream",
     "text": [
      "Accuracy: 0.7705627705627706\n"
     ]
    }
   ],
   "source": [
    "# Précision du modèle , à quelle fréquence le classificateur est-il correct ?\n",
    "print(\"Accuracy:\",metrics.accuracy_score(y_test, y_pred))"
   ]
  },
  {
   "cell_type": "code",
   "execution_count": 42,
   "id": "f458997d",
   "metadata": {},
   "outputs": [
    {
     "name": "stdout",
     "output_type": "stream",
     "text": [
      "[[124  22]\n",
      " [ 31  54]]\n"
     ]
    }
   ],
   "source": [
    "# Matrice de confusion\n",
    "from sklearn.metrics import confusion_matrix\n",
    "\n",
    "cm = confusion_matrix(y_test, y_pred)\n",
    "print(cm)"
   ]
  },
  {
   "cell_type": "code",
   "execution_count": 43,
   "id": "7109cf7d",
   "metadata": {},
   "outputs": [
    {
     "name": "stdout",
     "output_type": "stream",
     "text": [
      "Precision =  0.7105263157894737\n"
     ]
    }
   ],
   "source": [
    "#Précision\n",
    "from sklearn.metrics import precision_score\n",
    "\n",
    "precision = precision_score(y_true=y_test, y_pred=y_pred)\n",
    "print(\"Precision = \" , precision)"
   ]
  },
  {
   "cell_type": "code",
   "execution_count": 44,
   "id": "e6c5827c",
   "metadata": {},
   "outputs": [
    {
     "name": "stdout",
     "output_type": "stream",
     "text": [
      "Rappel =  0.6352941176470588\n"
     ]
    }
   ],
   "source": [
    "#Rappel\n",
    "from sklearn.metrics import recall_score\n",
    "\n",
    "rappel = recall_score(y_true=y_test, y_pred=y_pred)\n",
    "print(\"Rappel = \" , rappel)"
   ]
  },
  {
   "cell_type": "code",
   "execution_count": 15,
   "id": "eade2957",
   "metadata": {},
   "outputs": [
    {
     "data": {
      "image/png": "[encoded data removed]",
      "text/plain": [
       "<Figure size 432x288 with 1 Axes>"
      ]
     },
     "metadata": {
      "needs_background": "light"
     },
     "output_type": "display_data"
    }
   ],
   "source": [
    "#Compromis précision-rappel\n",
    "from sklearn.metrics import precision_recall_curve\n",
    "import matplotlib.pyplot as plt\n",
    "%matplotlib inline\n",
    "\n",
    "precisions,recalls,probas = precision_recall_curve(y_test, clf.predict_proba(X_test)[:,1])\n",
    "\n",
    "plt.plot(precisions,recalls, label = 'Precision vs Recall')\n",
    "plt.xlabel('Precisions')\n",
    "plt.ylabel('Recalls')\n",
    "plt.legend(loc = 'best')\n",
    "plt.show()"
   ]
  },
  {
   "cell_type": "code",
   "execution_count": 37,
   "id": "61c11ded",
   "metadata": {},
   "outputs": [
    {
     "name": "stdout",
     "output_type": "stream",
     "text": [
      "F1_score =  0.5365853658536586\n"
     ]
    }
   ],
   "source": [
    "#Score f1\n",
    "from sklearn.metrics import f1_score\n",
    "\n",
    "f1Score=f1_score(y_true=y_test, y_pred=y_pred)\n",
    "print(\"F1_score = \" , f1Score)"
   ]
  },
  {
   "cell_type": "code",
   "execution_count": 25,
   "id": "aa3acf1f",
   "metadata": {},
   "outputs": [],
   "source": [
    "# #Récapitulatif\n",
    "# from sklearn.metrics import classification_report\n",
    "\n",
    "# print(classification_report(y_true=y_test, y_pred=y_pred))"
   ]
  },
  {
   "cell_type": "code",
   "execution_count": 26,
   "id": "bb54c76b",
   "metadata": {},
   "outputs": [],
   "source": [
    "# #Coube roc\n",
    "# from sklearn.metrics import roc_curve\n",
    "\n",
    "# fpr, tpr, thresholds = roc_curve(y_test, clf.predict_proba(X_test)[:,1])\n",
    "\n",
    "# plt.plot(fpr, tpr, label = 'Roc Curve')\n",
    "# plt.xlabel('False positives')\n",
    "# plt.ylabel('True Positives or Recalls')\n",
    "# plt.legend(loc = 'best')\n",
    "# plt.show()\n"
   ]
  },
  {
   "cell_type": "code",
   "execution_count": 26,
   "id": "0dffe3f6",
   "metadata": {},
   "outputs": [],
   "source": [
    "# #cacul de l'AUC\n",
    "# from sklearn.metrics import roc_auc_score\n",
    "\n",
    "# roc_auc_score(y_true=y_test, y_score=y_pred)"
   ]
  },
  {
   "cell_type": "code",
   "execution_count": 47,
   "id": "e1b72896",
   "metadata": {
    "scrolled": true
   },
   "outputs": [],
   "source": [
    "# #Pour un rendu graphic de l'arbre de décision\n",
    "# from sklearn.tree import export_graphviz\n",
    "# from io import StringIO  \n",
    "# from IPython.display import Image  \n",
    "# import pydotplus\n",
    "# import graphviz\n",
    "# import os\n",
    "# # os.environ\\[\"PATH\"\\] += os.pathsep + 'C:\\Program Files (x86)\\Graphviz\\bin'\n",
    "# os.environ['PATH'] = os.environ['PATH']+';'+os.environ['CONDA_PREFIX']+r\"C:\\Program Files (x86)\\Graphviz\\bin\"\n",
    "\n",
    "\n",
    "\n",
    "# dot_data = StringIO()\n",
    "# export_graphviz(clf, out_file=dot_data,  \n",
    "#                 filled=True, rounded=True,\n",
    "#                 special_characters=True,feature_names = feature_cols,class_names=['0','1'])\n",
    "# graph = pydotplus.graph_from_dot_data(dot_data.getvalue())  \n",
    "# graph.write_png('diabetes.png')\n",
    "# Image(graph.create_png())"
   ]
  },
  {
   "cell_type": "code",
   "execution_count": null,
   "id": "938367dd",
   "metadata": {},
   "outputs": [],
   "source": [
    "# clf = DecisionTreeClassifier(criterion=\"entropy\", max_depth=3)"
   ]
  }
 ],
 "metadata": {
  "kernelspec": {
   "display_name": "Python 3 (ipykernel)",
   "language": "python",
   "name": "python3"
  },
  "language_info": {
   "codemirror_mode": {
    "name": "ipython",
    "version": 3
   },
   "file_extension": ".py",
   "mimetype": "text/x-python",
   "name": "python",
   "nbconvert_exporter": "python",
   "pygments_lexer": "ipython3",
   "version": "3.9.7"
  }
 },
 "nbformat": 4,
 "nbformat_minor": 5
}
